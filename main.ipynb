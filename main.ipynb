{
 "metadata": {
  "language_info": {
   "codemirror_mode": {
    "name": "ipython",
    "version": 3
   },
   "file_extension": ".py",
   "mimetype": "text/x-python",
   "name": "python",
   "nbconvert_exporter": "python",
   "pygments_lexer": "ipython3",
   "version": "3.8.3-final"
  },
  "orig_nbformat": 2,
  "kernelspec": {
   "name": "python3",
   "display_name": "Python 3"
  }
 },
 "nbformat": 4,
 "nbformat_minor": 2,
 "cells": [
  {
   "cell_type": "code",
   "execution_count": 2,
   "metadata": {},
   "outputs": [
    {
     "output_type": "stream",
     "name": "stdout",
     "text": [
      "        rater1  rater2  yellowReds  redCards  games\n0         0.25    0.50           0         0      1\n1         0.75    0.75           0         0      1\n2          NaN     NaN           0         0      1\n3          NaN     NaN           0         0      1\n4          NaN     NaN           0         0      1\n...        ...     ...         ...       ...    ...\n146023    0.00    0.00           0         0      1\n146024    0.25    0.50           0         0      1\n146025    0.25    0.25           0         0      1\n146026    0.50    0.50           0         0      1\n146027    0.00    0.25           0         0      1\n\n[146028 rows x 5 columns]\n"
     ]
    },
    {
     "output_type": "execute_result",
     "data": {
      "text/plain": [
       "        rater1  rater2  yellowReds  redCards  games\n",
       "0         0.25    0.50           0         0      1\n",
       "1         0.75    0.75           0         0      1\n",
       "2          NaN     NaN           0         0      1\n",
       "3          NaN     NaN           0         0      1\n",
       "4          NaN     NaN           0         0      1\n",
       "...        ...     ...         ...       ...    ...\n",
       "146023    0.00    0.00           0         0      1\n",
       "146024    0.25    0.50           0         0      1\n",
       "146025    0.25    0.25           0         0      1\n",
       "146026    0.50    0.50           0         0      1\n",
       "146027    0.00    0.25           0         0      1\n",
       "\n",
       "[146028 rows x 5 columns]"
      ],
      "text/html": "<div>\n<style scoped>\n    .dataframe tbody tr th:only-of-type {\n        vertical-align: middle;\n    }\n\n    .dataframe tbody tr th {\n        vertical-align: top;\n    }\n\n    .dataframe thead th {\n        text-align: right;\n    }\n</style>\n<table border=\"1\" class=\"dataframe\">\n  <thead>\n    <tr style=\"text-align: right;\">\n      <th></th>\n      <th>rater1</th>\n      <th>rater2</th>\n      <th>yellowReds</th>\n      <th>redCards</th>\n      <th>games</th>\n    </tr>\n  </thead>\n  <tbody>\n    <tr>\n      <th>0</th>\n      <td>0.25</td>\n      <td>0.50</td>\n      <td>0</td>\n      <td>0</td>\n      <td>1</td>\n    </tr>\n    <tr>\n      <th>1</th>\n      <td>0.75</td>\n      <td>0.75</td>\n      <td>0</td>\n      <td>0</td>\n      <td>1</td>\n    </tr>\n    <tr>\n      <th>2</th>\n      <td>NaN</td>\n      <td>NaN</td>\n      <td>0</td>\n      <td>0</td>\n      <td>1</td>\n    </tr>\n    <tr>\n      <th>3</th>\n      <td>NaN</td>\n      <td>NaN</td>\n      <td>0</td>\n      <td>0</td>\n      <td>1</td>\n    </tr>\n    <tr>\n      <th>4</th>\n      <td>NaN</td>\n      <td>NaN</td>\n      <td>0</td>\n      <td>0</td>\n      <td>1</td>\n    </tr>\n    <tr>\n      <th>...</th>\n      <td>...</td>\n      <td>...</td>\n      <td>...</td>\n      <td>...</td>\n      <td>...</td>\n    </tr>\n    <tr>\n      <th>146023</th>\n      <td>0.00</td>\n      <td>0.00</td>\n      <td>0</td>\n      <td>0</td>\n      <td>1</td>\n    </tr>\n    <tr>\n      <th>146024</th>\n      <td>0.25</td>\n      <td>0.50</td>\n      <td>0</td>\n      <td>0</td>\n      <td>1</td>\n    </tr>\n    <tr>\n      <th>146025</th>\n      <td>0.25</td>\n      <td>0.25</td>\n      <td>0</td>\n      <td>0</td>\n      <td>1</td>\n    </tr>\n    <tr>\n      <th>146026</th>\n      <td>0.50</td>\n      <td>0.50</td>\n      <td>0</td>\n      <td>0</td>\n      <td>1</td>\n    </tr>\n    <tr>\n      <th>146027</th>\n      <td>0.00</td>\n      <td>0.25</td>\n      <td>0</td>\n      <td>0</td>\n      <td>1</td>\n    </tr>\n  </tbody>\n</table>\n<p>146028 rows × 5 columns</p>\n</div>"
     },
     "metadata": {},
     "execution_count": 2
    }
   ],
   "source": [
    "import utils\n",
    "import pandas as pd \n",
    "df_cc = utils.load_csv('data.csv', ['rater1', 'rater2', 'yellowReds', 'redCards', 'games'])\n",
    "print(df_cc)\n",
    "df_cc.drop(df_cc[df_cc['games']==0].index)\n"
   ]
  }
 ]
}